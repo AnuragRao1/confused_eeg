{
 "cells": [
  {
   "cell_type": "code",
   "execution_count": null,
   "id": "77be4e6d-c078-41ab-9354-bc52805d1dd1",
   "metadata": {},
   "outputs": [],
   "source": [
    "import numpy as np\n",
    "from matplotlib import pyplot as plt\n",
    "import pandas as pd\n",
    "import seaborn as sns"
   ]
  },
  {
   "cell_type": "markdown",
   "id": "6de794dd-9a49-4545-9e01-83b20130aa33",
   "metadata": {},
   "source": [
    "# Initial work"
   ]
  },
  {
   "cell_type": "code",
   "execution_count": null,
   "id": "8ebc9aed-be26-4151-86a1-895185b9d3e9",
   "metadata": {},
   "outputs": [],
   "source": [
    "eeg = pd.read_csv(\"EEG_data.csv\")\n",
    "eeg"
   ]
  },
  {
   "cell_type": "code",
   "execution_count": null,
   "id": "6117b7b8-daa6-4c3e-b09c-eab37a33413b",
   "metadata": {},
   "outputs": [],
   "source": [
    "nans = np.isnan(eeg).values.sum() \n",
    "print(\"Number of nan values: \", nans)\n",
    "\n",
    "infs = np.isinf(eeg).values.sum()\n",
    "print(\"Number of inf values: \", infs)"
   ]
  },
  {
   "cell_type": "markdown",
   "id": "907edc16-f0bf-4cbf-9057-702136de998d",
   "metadata": {},
   "source": [
    "# Data processing"
   ]
  },
  {
   "cell_type": "markdown",
   "id": "2b61110e-649b-400a-9f4f-af5df4b03ead",
   "metadata": {},
   "source": [
    "## Distributions"
   ]
  },
  {
   "cell_type": "code",
   "execution_count": null,
   "id": "90b7a8a8-ef33-438f-b2c3-e123ebb42f49",
   "metadata": {
    "scrolled": true
   },
   "outputs": [],
   "source": [
    "plt.hist(eeg[\"predefinedlabel\"], bins=[0,0.5,1], density=True, edgecolor='k')\n",
    "plt.title(\"Predefined labels\")\n",
    "plt.show()\n",
    "\n",
    "plt.hist(eeg[\"user-definedlabeln\"], bins=[0,0.5,1], density=True, edgecolor='k')\n",
    "plt.title(\"User defined labels\")\n",
    "plt.show()"
   ]
  },
  {
   "cell_type": "markdown",
   "id": "c20b8b22-3da3-4225-97a7-f3b064a62ff1",
   "metadata": {},
   "source": [
    "### Subject level"
   ]
  },
  {
   "cell_type": "code",
   "execution_count": null,
   "id": "cbb915a1-c759-4db9-8456-bfb2f7903f91",
   "metadata": {},
   "outputs": [],
   "source": [
    "plt.hist(eeg[\"Attention\"], bins='auto', density=True)\n",
    "plt.title(\"Attention\")\n",
    "plt.xlabel(\"Attention scores\")\n",
    "plt.show()\n",
    "\n",
    "plt.hist(eeg[\"Mediation\"], bins='auto', density=True)\n",
    "plt.title(\"Mediation\")\n",
    "plt.xlabel(\"Mediation scores\")\n",
    "plt.show()"
   ]
  },
  {
   "cell_type": "code",
   "execution_count": null,
   "id": "51901ff7-025c-4011-83cc-c50a43636aae",
   "metadata": {
    "scrolled": true
   },
   "outputs": [],
   "source": [
    "_, binz, _ = plt.hist(eeg[\"Delta\"], bins=\"auto\", density=True)\n",
    "plt.title(\"Delta distribution\")\n",
    "plt.show()\n",
    "\n",
    "for i in range(10):\n",
    "    subj_id = float(i)\n",
    "    plt.hist(eeg[eeg[\"SubjectID\"] == subj_id][\"Delta\"], bins=binz, density=True)\n",
    "    plt.title(\"Delta distribution for Subject \" + str(subj_id))\n",
    "    plt.show()"
   ]
  },
  {
   "cell_type": "code",
   "execution_count": null,
   "id": "7ba588ee-8b3f-4663-a64e-6850ec3d1077",
   "metadata": {
    "scrolled": true
   },
   "outputs": [],
   "source": [
    "_, binz, _ = plt.hist(eeg[\"Theta\"], bins=\"auto\", density=True)\n",
    "plt.title(\"Theta distribution\")\n",
    "plt.show()\n",
    "\n",
    "for i in range(10):\n",
    "    subj_id = float(i)\n",
    "    plt.hist(eeg[eeg[\"SubjectID\"] == subj_id][\"Theta\"], bins=binz, density=True)\n",
    "    plt.title(\"Theta distribution for Subject \" + str(subj_id))\n",
    "    plt.show()"
   ]
  },
  {
   "cell_type": "code",
   "execution_count": null,
   "id": "2ce8941f-145f-49ae-b860-e457c81b4f89",
   "metadata": {},
   "outputs": [],
   "source": [
    "_, binz, _ = plt.hist(eeg[\"Alpha1\"], bins=\"auto\", density=True)\n",
    "plt.title(\"Alpha1 distribution\")\n",
    "plt.show()\n",
    "\n",
    "for i in range(10):\n",
    "    subj_id = float(i)\n",
    "    plt.hist(eeg[eeg[\"SubjectID\"] == subj_id][\"Alpha1\"], bins=binz, density=True)\n",
    "    plt.title(\"Alpha1 distribution for Subject \" + str(subj_id))\n",
    "    plt.show()"
   ]
  },
  {
   "cell_type": "code",
   "execution_count": null,
   "id": "e7624a7b-b1a4-4f5b-9818-bce07595c65f",
   "metadata": {
    "scrolled": true
   },
   "outputs": [],
   "source": [
    "_, binz, _ = plt.hist(eeg[\"Alpha2\"], bins=\"auto\", density=True)\n",
    "plt.title(\"Alpha2 distribution\")\n",
    "plt.show()\n",
    "\n",
    "for i in range(10):\n",
    "    subj_id = float(i)\n",
    "    plt.hist(eeg[eeg[\"SubjectID\"] == subj_id][\"Alpha2\"], bins=binz, density=True)\n",
    "    plt.title(\"Alpha2 distribution for Subject \" + str(subj_id))\n",
    "    plt.show()"
   ]
  },
  {
   "cell_type": "code",
   "execution_count": null,
   "id": "6ddbb7f3-42df-4532-a5e8-c0233db83768",
   "metadata": {
    "scrolled": true
   },
   "outputs": [],
   "source": [
    "_, binz, _ = plt.hist(eeg[\"Raw\"], bins=\"auto\", density=True)\n",
    "plt.title(\"Raw distribution\")\n",
    "plt.show()\n",
    "\n",
    "for i in range(10):\n",
    "    subj_id = float(i)\n",
    "    plt.hist(eeg[eeg[\"SubjectID\"] == subj_id][\"Raw\"], bins=binz, density=True)\n",
    "    plt.title(\"Raw distribution for Subject \" + str(subj_id))\n",
    "    plt.show()"
   ]
  },
  {
   "cell_type": "code",
   "execution_count": null,
   "id": "4202aaa6-d52b-41ff-95bb-6ec00077f140",
   "metadata": {},
   "outputs": [],
   "source": [
    "print(\"Variance of Raw Feature\",np.var(eeg[\"Raw\"]))\n",
    "print(\"Variance of Raw for subject 2\", np.var(eeg[eeg[\"SubjectID\"] == 2.0][\"Raw\"]))\n",
    "print(\"Variance of Raw for subject 6\", np.var(eeg[eeg[\"SubjectID\"] == 6.0][\"Raw\"]))"
   ]
  },
  {
   "cell_type": "markdown",
   "id": "e6ea1a0e-7441-4a97-a512-309e6a4a927f",
   "metadata": {},
   "source": [
    "### Video level"
   ]
  },
  {
   "cell_type": "code",
   "execution_count": null,
   "id": "01db1733-246a-4fa5-815c-abd264698e4f",
   "metadata": {
    "scrolled": true
   },
   "outputs": [],
   "source": [
    "_, binz, _ = plt.hist(eeg[\"Raw\"], bins=\"auto\", density=True)\n",
    "plt.title(\"Raw distribution\")\n",
    "plt.show()\n",
    "\n",
    "for i in range(10):\n",
    "    subj_id = float(i)\n",
    "    plt.hist(eeg[eeg[\"VideoID\"] == subj_id][\"Raw\"], bins=binz, density=True)\n",
    "    plt.title(\"Raw distribution for Video \" + str(subj_id))\n",
    "    plt.show()"
   ]
  },
  {
   "cell_type": "markdown",
   "id": "e584c06b-6e8a-4b58-8786-18b4d68a3cb4",
   "metadata": {},
   "source": [
    "The findings show that subject two has values clustered towards 0 while subject 6 is very spread.\\\n",
    "There are many slight differences between the distributions per video, pointing at some relationship with the labels but not strong enough to make immeadiate conclusions."
   ]
  },
  {
   "cell_type": "markdown",
   "id": "594ba985-6d19-42bd-9cdf-2d70dcf67588",
   "metadata": {},
   "source": [
    "## Correlation"
   ]
  },
  {
   "cell_type": "code",
   "execution_count": null,
   "id": "63c1b728-5762-45d3-9ce2-886d8df90a4d",
   "metadata": {},
   "outputs": [],
   "source": [
    "df = eeg.iloc[:,2:]\n",
    "corrmap = df.corr()\n",
    "sns.heatmap(corrmap, cmap=\"Purples\")"
   ]
  },
  {
   "cell_type": "markdown",
   "id": "75f1a004-e7bf-4bfc-8c25-1e6a70f22b64",
   "metadata": {},
   "source": [
    "It makes sense that the more similar frequency bands are the more correlated they are.\\\n",
    "The only attributes that have a strong relationship with the labels are Delta-Beta1."
   ]
  },
  {
   "cell_type": "code",
   "execution_count": null,
   "id": "ecc0193a-4a3c-4ec8-8887-4a7cc899b12a",
   "metadata": {},
   "outputs": [],
   "source": []
  }
 ],
 "metadata": {
  "kernelspec": {
   "display_name": "Python (stat154)",
   "language": "python",
   "name": "stat154env"
  },
  "language_info": {
   "codemirror_mode": {
    "name": "ipython",
    "version": 3
   },
   "file_extension": ".py",
   "mimetype": "text/x-python",
   "name": "python",
   "nbconvert_exporter": "python",
   "pygments_lexer": "ipython3",
   "version": "3.11.5"
  }
 },
 "nbformat": 4,
 "nbformat_minor": 5
}
